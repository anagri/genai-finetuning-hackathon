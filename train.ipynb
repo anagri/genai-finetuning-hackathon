{
  "nbformat": 4,
  "nbformat_minor": 0,
  "metadata": {
    "colab": {
      "provenance": [],
      "gpuType": "V100"
    },
    "kernelspec": {
      "name": "python3",
      "display_name": "Python 3"
    },
    "language_info": {
      "name": "python"
    },
    "accelerator": "GPU"
  },
  "cells": [
    {
      "cell_type": "code",
      "source": [
        "!pip install codeassist accelerate peft"
      ],
      "metadata": {
        "id": "g3MlX5JVEhDR"
      },
      "execution_count": null,
      "outputs": []
    },
    {
      "cell_type": "code",
      "execution_count": null,
      "metadata": {
        "id": "_L9oUrNRDKED"
      },
      "outputs": [],
      "source": [
        "!git clone https://github.com/anagri/genai-finetuning-hackathon.git"
      ]
    },
    {
      "cell_type": "code",
      "source": [
        "%cd genai-finetuning-hackathon/"
      ],
      "metadata": {
        "id": "hkQtJ5aiDM6w"
      },
      "execution_count": null,
      "outputs": []
    },
    {
      "cell_type": "code",
      "source": [
        "from google.colab import drive\n",
        "drive.mount('/content/gdrive')"
      ],
      "metadata": {
        "id": "R2j2IOm4DR5x"
      },
      "execution_count": null,
      "outputs": []
    },
    {
      "cell_type": "code",
      "source": [
        "!mkdir -p /content/gdrive/MyDrive/ckpt"
      ],
      "metadata": {
        "id": "l_6CpR5oDVdw"
      },
      "execution_count": null,
      "outputs": []
    },
    {
      "cell_type": "code",
      "source": [
        "!mkdir -p /content/gdrive/MyDrive/hf_home"
      ],
      "metadata": {
        "id": "RKwOHdWbECA4"
      },
      "execution_count": null,
      "outputs": []
    },
    {
      "cell_type": "code",
      "source": [
        "!export HF_HOME=/content/gdrive/MyDrive/hf_home"
      ],
      "metadata": {
        "id": "3pyjq7PeD8UY"
      },
      "execution_count": null,
      "outputs": []
    },
    {
      "cell_type": "code",
      "source": [
        "from codeassist import WizardCoder"
      ],
      "metadata": {
        "id": "e3zTnUelDutK"
      },
      "execution_count": null,
      "outputs": []
    },
    {
      "cell_type": "code",
      "source": [
        "del model"
      ],
      "metadata": {
        "id": "MPATbIJ-F3CD"
      },
      "execution_count": null,
      "outputs": []
    },
    {
      "cell_type": "code",
      "source": [
        "import torch\n",
        "torch.cuda.empty_cache()"
      ],
      "metadata": {
        "id": "MqmgQvJyF33L"
      },
      "execution_count": null,
      "outputs": []
    },
    {
      "cell_type": "code",
      "source": [
        "!cat final-data/code-assist-validate.jsonl >> final-data/code-assist-train.jsonl"
      ],
      "metadata": {
        "id": "aKRbarcWQR7x"
      },
      "execution_count": null,
      "outputs": []
    },
    {
      "cell_type": "code",
      "source": [
        "model = WizardCoder(model_name_or_path=\"WizardLM/WizardCoder-3B-V1.0\", fp16=True, bf16=False)"
      ],
      "metadata": {
        "id": "e3XEWOqHDc2T"
      },
      "execution_count": null,
      "outputs": []
    },
    {
      "cell_type": "code",
      "source": [
        "model.train_model(\n",
        "    \"final-data/code-assist-train.jsonl\",\n",
        "    \"/content/gdrive/MyDrive/ckpt\",\n",
        "    batch_size=8,\n",
        "    num_epochs=1,\n",
        "    max_steps=4000,\n",
        "    # warmup_steps=100,\n",
        "    # save_steps=500,\n",
        "    # eval_steps=10,\n",
        "    save_total_limit=2,\n",
        ")"
      ],
      "metadata": {
        "id": "O4StgrfkDwqe"
      },
      "execution_count": null,
      "outputs": []
    },
    {
      "cell_type": "code",
      "source": [
        "!pip install huggingface_hub"
      ],
      "metadata": {
        "id": "1ZWfBa8vDwwO"
      },
      "execution_count": null,
      "outputs": []
    },
    {
      "cell_type": "code",
      "source": [
        "!pip install getpass"
      ],
      "metadata": {
        "id": "bGOjVj4_3ltM"
      },
      "execution_count": null,
      "outputs": []
    },
    {
      "cell_type": "code",
      "source": [
        "from getpass import getpass\n",
        "\n",
        "HF_TOKEN = getpass('Huggingface Token')"
      ],
      "metadata": {
        "id": "x8Z5NUde3nb1"
      },
      "execution_count": null,
      "outputs": []
    },
    {
      "cell_type": "code",
      "source": [
        "!huggingface-cli login --token $HF_TOKEN"
      ],
      "metadata": {
        "id": "OCZS4qbYDw2Q"
      },
      "execution_count": null,
      "outputs": []
    },
    {
      "cell_type": "code",
      "source": [
        "model.save_model(\"/content/gdrive/MyDrive/ckpt/final-model/\")"
      ],
      "metadata": {
        "id": "pvUZaymkcWGH"
      },
      "execution_count": null,
      "outputs": []
    },
    {
      "cell_type": "code",
      "source": [
        "model.model.push_to_hub(\"langchain_adapter\")"
      ],
      "metadata": {
        "id": "GPg6Ac7Tdftk"
      },
      "execution_count": null,
      "outputs": []
    },
    {
      "cell_type": "code",
      "source": [],
      "metadata": {
        "id": "2Cu58j-Gc2-0"
      },
      "execution_count": null,
      "outputs": []
    }
  ]
}