{
 "cells": [
  {
   "cell_type": "code",
   "execution_count": 12,
   "metadata": {},
   "outputs": [],
   "source": [
    "import openai"
   ]
  },
  {
   "cell_type": "code",
   "execution_count": 13,
   "metadata": {},
   "outputs": [],
   "source": [
    "import os\n",
    "import builtins\n",
    "from getpass import getpass\n",
    "import glob"
   ]
  },
  {
   "cell_type": "code",
   "execution_count": 14,
   "metadata": {},
   "outputs": [],
   "source": [
    "os.environ['OPENAI_API_KEY'] = getpass()"
   ]
  },
  {
   "cell_type": "code",
   "execution_count": 15,
   "metadata": {},
   "outputs": [],
   "source": [
    "openai.api_key = os.getenv(\"OPENAI_API_KEY\")"
   ]
  },
  {
   "cell_type": "code",
   "execution_count": 16,
   "metadata": {},
   "outputs": [],
   "source": [
    "generation_prompt = \"\"\"Do the following tasks referring the the use case document-\n",
    "1. Analyze the use case and understand the workings of langchain library\n",
    "2. Using the prompt format below, generate 10 sample prompts replacing the external non-langchain entities or resources like urls mentioned in the documentation with a similar entities or resources covering the features that langchain offers\n",
    "3. The prompt format has 2 sections Instructions and Response\n",
    "4. In the instructions, detail the task you are trying to accomplish using langchain\n",
    "5. In the response, write the code that you would write to accomplish the task\n",
    "6. Separate each prompt with a line break\n",
    "7. follow the prompt format religiously\n",
    "\n",
    "prompt format:\n",
    "Below is an instruction that describes a task. Write a response that appropriately completes the request.\n",
    "### Instruction:\n",
    "{instruction}\n",
    "\n",
    "### Response:\n",
    "{response}\n",
    "\n",
    "---\n",
    "\n",
    "\"\"\""
   ]
  },
  {
   "cell_type": "code",
   "execution_count": 17,
   "metadata": {},
   "outputs": [],
   "source": [
    "base_dir = '/Users/amir36/Documents/workspace/src/github.com/anagri/genai-finetuning-hackathon'"
   ]
  },
  {
   "cell_type": "code",
   "execution_count": 18,
   "metadata": {},
   "outputs": [],
   "source": [
    "files = [\n",
    "    \"use-cases-md/apis.md\",\n",
    "]"
   ]
  },
  {
   "cell_type": "code",
   "execution_count": 19,
   "metadata": {},
   "outputs": [
    {
     "name": "stdout",
     "output_type": "stream",
     "text": [
      "processing use-case: use-cases-md/apis.md\n",
      "generated 5 prompts\n"
     ]
    }
   ],
   "source": [
    "# read all files from use-cases-md\n",
    "import glob\n",
    "\n",
    "# files = glob.glob(\"use-cases-md/*.md\")\n",
    "\n",
    "for file in files:\n",
    "    print(f\"processing use-case: {file}\")\n",
    "    doc = open(file, \"r\").read()\n",
    "    # split file into name and extension\n",
    "    filename = os.path.basename(file)\n",
    "    name, _ = os.path.splitext(filename)\n",
    "    completion = openai.ChatCompletion.create(\n",
    "        model=\"gpt-4\",\n",
    "        messages=[\n",
    "            {\"role\": \"system\", \"content\": \"You are an expert programmer.\"},\n",
    "            {\n",
    "                \"role\": \"user\",\n",
    "                \"content\": \"Below is the usage for the python library langchain.\"\n",
    "                \"langchain is used to interact with Large Language Models and accomplish a variety of tasks. \"\n",
    "                \"The code below covers how to use langchain library to make API calls\",\n",
    "            },\n",
    "            {\"role\": \"user\", \"content\": doc},\n",
    "            {\"role\": \"user\", \"content\": generation_prompt},\n",
    "        ],\n",
    "    )\n",
    "    response = completion.choices[0].message[\"content\"]\n",
    "    examples = response.split(\"---\")\n",
    "    examples = [e.strip() for e in examples]\n",
    "    examples = [e for e in examples if len(e) > 0]\n",
    "    print(f\"generated {len(examples)} prompts\")\n",
    "    for i, ex in enumerate(examples):\n",
    "        with builtins.open(f\"{base_dir}/training-data/{name}-{i}.md\", \"w\") as f:\n",
    "            f.write(ex)"
   ]
  },
  {
   "cell_type": "code",
   "execution_count": 20,
   "metadata": {},
   "outputs": [],
   "source": [
    "start_inst = \"Below is an instruction that describes a task. Write a response that appropriately completes the request.\\n\""
   ]
  },
  {
   "cell_type": "code",
   "execution_count": 21,
   "metadata": {},
   "outputs": [
    {
     "name": "stdout",
     "output_type": "stream",
     "text": [
      "file training-data/local_retrieval_qa-7.md is good\n",
      "file training-data/sql-5.md is good\n",
      "file training-data/chatbots-3.md is good\n",
      "file training-data/document-context-aware-QA-8.md is good\n",
      "file training-data/tagging-9.md is good\n",
      "file training-data/conversational_retrieval_agents-0.md is good\n",
      "file training-data/local_retrieval_qa-3.md is good\n",
      "file training-data/vector_db_text_generation-9.md is good\n",
      "file training-data/chatbots-7.md is good\n",
      "file training-data/summarization-9.md is good\n",
      "file training-data/sql-1.md is good\n",
      "file training-data/conversational_retrieval_agents-4.md is good\n",
      "file training-data/local_retrieval_qa-2.md is good\n",
      "file training-data/vector_db_text_generation-8.md is good\n",
      "file training-data/chatbots-6.md is good\n",
      "file training-data/summarization-8.md is good\n",
      "file training-data/sql-0.md is good\n",
      "file training-data/conversational_retrieval_agents-5.md is good\n",
      "file training-data/local_retrieval_qa-6.md is good\n",
      "file training-data/sql-4.md is good\n",
      "file training-data/chatbots-2.md is good\n",
      "file training-data/document-context-aware-QA-9.md is good\n",
      "file training-data/tagging-8.md is good\n",
      "file training-data/conversational_retrieval_agents-1.md is good\n",
      "file training-data/summarization-7.md is good\n",
      "file training-data/document-context-aware-QA-2.md is good\n",
      "file training-data/extraction-5.md is good\n",
      "file training-data/vector_db_text_generation-7.md is good\n",
      "file training-data/qa_citations-1.md is good\n",
      "file training-data/tagging-3.md is good\n",
      "file training-data/extraction-1.md is good\n",
      "file training-data/document-context-aware-QA-6.md is good\n",
      "file training-data/summarization-3.md is good\n",
      "file training-data/vector_db_text_generation-3.md is good\n",
      "file training-data/local_retrieval_qa-9.md is good\n",
      "file training-data/qa_citations-5.md is good\n",
      "file training-data/tagging-7.md is good\n",
      "file training-data/extraction-0.md is good\n",
      "file training-data/document-context-aware-QA-7.md is good\n",
      "file training-data/summarization-2.md is good\n",
      "file training-data/vector_db_text_generation-2.md is good\n",
      "file training-data/local_retrieval_qa-8.md is good\n",
      "file training-data/qa_citations-4.md is good\n",
      "file training-data/tagging-6.md is good\n",
      "file training-data/summarization-6.md is good\n",
      "file training-data/document-context-aware-QA-3.md is good\n",
      "file training-data/extraction-4.md is good\n",
      "file training-data/chatbots-8.md is good\n",
      "file training-data/vector_db_text_generation-6.md is good\n",
      "file training-data/qa_citations-0.md is good\n",
      "file training-data/tagging-2.md is good\n",
      "file training-data/document-context-aware-QA-4.md is good\n",
      "file training-data/extraction-3.md is good\n",
      "file training-data/summarization-1.md is good\n",
      "file training-data/vector_db_text_generation-1.md is good\n",
      "file training-data/qa_citations-7.md is good\n",
      "file training-data/tagging-5.md is good\n",
      "file training-data/summarization-5.md is good\n",
      "file training-data/extraction-7.md is good\n",
      "file training-data/document-context-aware-QA-0.md is good\n",
      "file training-data/vector_db_text_generation-5.md is good\n",
      "file training-data/conversational_retrieval_agents-8.md is good\n",
      "file training-data/qa_citations-3.md is good\n",
      "file training-data/tagging-1.md is good\n",
      "file training-data/summarization-4.md is good\n",
      "file training-data/extraction-6.md is good\n",
      "file training-data/document-context-aware-QA-1.md is good\n",
      "file training-data/vector_db_text_generation-4.md is good\n",
      "file training-data/conversational_retrieval_agents-9.md is good\n",
      "file training-data/qa_citations-2.md is good\n",
      "file training-data/tagging-0.md is good\n",
      "file training-data/document-context-aware-QA-5.md is good\n",
      "file training-data/extraction-2.md is good\n",
      "file training-data/summarization-0.md is good\n",
      "file training-data/sql-8.md is good\n",
      "file training-data/vector_db_text_generation-0.md is good\n",
      "file training-data/qa_citations-6.md is good\n",
      "file training-data/tagging-4.md is good\n",
      "file training-data/local_retrieval_qa-1.md is good\n",
      "file training-data/chatbots-5.md is good\n",
      "file training-data/sql-3.md is good\n",
      "file training-data/conversational_retrieval_agents-6.md is good\n",
      "file training-data/local_retrieval_qa-5.md is good\n",
      "file training-data/sql-7.md is good\n",
      "file training-data/chatbots-1.md is good\n",
      "file training-data/conversational_retrieval_agents-2.md is good\n",
      "file training-data/multiple_retrieval-1.md is good\n",
      "file training-data/qa_citations-9.md is good\n",
      "file training-data/local_retrieval_qa-4.md is good\n",
      "file training-data/sql-6.md is good\n",
      "file training-data/chatbots-0.md is good\n",
      "file training-data/conversational_retrieval_agents-3.md is good\n",
      "file training-data/multiple_retrieval-0.md is good\n",
      "file training-data/qa_citations-8.md is good\n",
      "file training-data/local_retrieval_qa-0.md is good\n",
      "file training-data/extraction-8.md is good\n",
      "file training-data/chatbots-4.md is good\n",
      "file training-data/sql-2.md is good\n",
      "file training-data/conversational_retrieval_agents-7.md is good\n"
     ]
    }
   ],
   "source": [
    "# read all files from training-data, if the first line of file is not as given, insert the line into the file\n",
    "files = glob.glob(\"training-data/*.md\")\n",
    "for file in files:\n",
    "    with open(file, \"r\") as f:\n",
    "        first_line = f.readline()\n",
    "        if first_line != start_inst:\n",
    "            with open(file, \"r+\") as f:\n",
    "                content = f.read()\n",
    "                f.seek(0, 0)\n",
    "                f.write(start_inst+ \"\\n\\n\" + content)\n",
    "        else:\n",
    "            print(f\"file {file} is good\")"
   ]
  },
  {
   "cell_type": "code",
   "execution_count": null,
   "metadata": {},
   "outputs": [],
   "source": []
  }
 ],
 "metadata": {
  "kernelspec": {
   "display_name": "fine310",
   "language": "python",
   "name": "python3"
  },
  "language_info": {
   "codemirror_mode": {
    "name": "ipython",
    "version": 3
   },
   "file_extension": ".py",
   "mimetype": "text/x-python",
   "name": "python",
   "nbconvert_exporter": "python",
   "pygments_lexer": "ipython3",
   "version": "3.10.12"
  },
  "orig_nbformat": 4
 },
 "nbformat": 4,
 "nbformat_minor": 2
}
